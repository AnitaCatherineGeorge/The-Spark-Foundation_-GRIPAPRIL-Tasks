{
 "cells": [
  {
   "cell_type": "markdown",
   "id": "f1205901",
   "metadata": {},
   "source": [
    "# Prediction using Supervised ML using R"
   ]
  },
  {
   "cell_type": "markdown",
   "id": "f9196204",
   "metadata": {},
   "source": [
    " **Simple Linear Regression**\n",
    "\n",
    "It is a statistical method that allows us to summarize and study relationships between two continuous (quantitative) variables. One variable denoted x is regarded as an independent variable and other one denoted y is regarded as a dependent variable. It is assumed that the two variables are linearly related. Hence, we try to find a linear function that predicts the response value(y) as accurately as possible as a function of the feature or independent variable(x).\n"
   ]
  },
  {
   "cell_type": "markdown",
   "id": "5ba80a7c",
   "metadata": {},
   "source": [
    "In this regression task we will **predict the percentage of marks that a student is expected to score based upon the number of hours they studied.** This is a simple linear regression task as it involves just two variables."
   ]
  },
  {
   "cell_type": "code",
   "execution_count": 1,
   "id": "cd2a1138",
   "metadata": {},
   "outputs": [
    {
     "name": "stderr",
     "output_type": "stream",
     "text": [
      "Registered S3 methods overwritten by 'ggplot2':\n",
      "  method         from \n",
      "  [.quosures     rlang\n",
      "  c.quosures     rlang\n",
      "  print.quosures rlang\n"
     ]
    }
   ],
   "source": [
    "# load the required packages.\n",
    "library(ggplot2)                        # Library to create some nice looking graphs.\n"
   ]
  },
  {
   "cell_type": "code",
   "execution_count": 2,
   "id": "3c809077",
   "metadata": {},
   "outputs": [],
   "source": [
    "# Importing the dataset\n",
    "\n",
    "dataset = \"http://bit.ly/w-data\"\n",
    "data = read.csv(dataset)"
   ]
  },
  {
   "cell_type": "markdown",
   "id": "e4f9fcdd",
   "metadata": {},
   "source": [
    "**Do some data exploration**"
   ]
  },
  {
   "cell_type": "code",
   "execution_count": 3,
   "id": "fffce92c",
   "metadata": {},
   "outputs": [
    {
     "data": {
      "text/html": [
       "<table>\n",
       "<thead><tr><th scope=col>Hours</th><th scope=col>Scores</th></tr></thead>\n",
       "<tbody>\n",
       "\t<tr><td>2.5</td><td>21 </td></tr>\n",
       "\t<tr><td>5.1</td><td>47 </td></tr>\n",
       "\t<tr><td>3.2</td><td>27 </td></tr>\n",
       "\t<tr><td>8.5</td><td>75 </td></tr>\n",
       "\t<tr><td>3.5</td><td>30 </td></tr>\n",
       "</tbody>\n",
       "</table>\n"
      ],
      "text/latex": [
       "\\begin{tabular}{r|ll}\n",
       " Hours & Scores\\\\\n",
       "\\hline\n",
       "\t 2.5 & 21 \\\\\n",
       "\t 5.1 & 47 \\\\\n",
       "\t 3.2 & 27 \\\\\n",
       "\t 8.5 & 75 \\\\\n",
       "\t 3.5 & 30 \\\\\n",
       "\\end{tabular}\n"
      ],
      "text/markdown": [
       "\n",
       "| Hours | Scores |\n",
       "|---|---|\n",
       "| 2.5 | 21  |\n",
       "| 5.1 | 47  |\n",
       "| 3.2 | 27  |\n",
       "| 8.5 | 75  |\n",
       "| 3.5 | 30  |\n",
       "\n"
      ],
      "text/plain": [
       "  Hours Scores\n",
       "1 2.5   21    \n",
       "2 5.1   47    \n",
       "3 3.2   27    \n",
       "4 8.5   75    \n",
       "5 3.5   30    "
      ]
     },
     "metadata": {},
     "output_type": "display_data"
    }
   ],
   "source": [
    "#Inspect and summarize the data.\n",
    "head(data,5)"
   ]
  },
  {
   "cell_type": "code",
   "execution_count": 4,
   "id": "69104a73",
   "metadata": {},
   "outputs": [
    {
     "name": "stdout",
     "output_type": "stream",
     "text": [
      "'data.frame':\t25 obs. of  2 variables:\n",
      " $ Hours : num  2.5 5.1 3.2 8.5 3.5 1.5 9.2 5.5 8.3 2.7 ...\n",
      " $ Scores: int  21 47 27 75 30 20 88 60 81 25 ...\n"
     ]
    }
   ],
   "source": [
    "str(data)"
   ]
  },
  {
   "cell_type": "code",
   "execution_count": 5,
   "id": "78082e4a",
   "metadata": {},
   "outputs": [
    {
     "data": {
      "text/plain": [
       "     Hours           Scores     \n",
       " Min.   :1.100   Min.   :17.00  \n",
       " 1st Qu.:2.700   1st Qu.:30.00  \n",
       " Median :4.800   Median :47.00  \n",
       " Mean   :5.012   Mean   :51.48  \n",
       " 3rd Qu.:7.400   3rd Qu.:75.00  \n",
       " Max.   :9.200   Max.   :95.00  "
      ]
     },
     "metadata": {},
     "output_type": "display_data"
    }
   ],
   "source": [
    "summary(data)"
   ]
  },
  {
   "cell_type": "code",
   "execution_count": 6,
   "id": "175917d5",
   "metadata": {},
   "outputs": [
    {
     "data": {
      "text/html": [
       "<ol>\n",
       "\t<li><ol class=list-inline>\n",
       "\t<li>21</li>\n",
       "\t<li>47</li>\n",
       "\t<li>27</li>\n",
       "\t<li>75</li>\n",
       "\t<li>30</li>\n",
       "\t<li>20</li>\n",
       "\t<li>88</li>\n",
       "\t<li>60</li>\n",
       "\t<li>81</li>\n",
       "\t<li>25</li>\n",
       "\t<li>85</li>\n",
       "\t<li>62</li>\n",
       "\t<li>41</li>\n",
       "\t<li>42</li>\n",
       "\t<li>17</li>\n",
       "\t<li>95</li>\n",
       "\t<li>30</li>\n",
       "\t<li>24</li>\n",
       "\t<li>67</li>\n",
       "\t<li>69</li>\n",
       "\t<li>30</li>\n",
       "\t<li>54</li>\n",
       "\t<li>35</li>\n",
       "\t<li>76</li>\n",
       "\t<li>86</li>\n",
       "</ol>\n",
       "</li>\n",
       "</ol>\n"
      ],
      "text/latex": [
       "\\begin{enumerate}\n",
       "\\item \\begin{enumerate*}\n",
       "\\item 21\n",
       "\\item 47\n",
       "\\item 27\n",
       "\\item 75\n",
       "\\item 30\n",
       "\\item 20\n",
       "\\item 88\n",
       "\\item 60\n",
       "\\item 81\n",
       "\\item 25\n",
       "\\item 85\n",
       "\\item 62\n",
       "\\item 41\n",
       "\\item 42\n",
       "\\item 17\n",
       "\\item 95\n",
       "\\item 30\n",
       "\\item 24\n",
       "\\item 67\n",
       "\\item 69\n",
       "\\item 30\n",
       "\\item 54\n",
       "\\item 35\n",
       "\\item 76\n",
       "\\item 86\n",
       "\\end{enumerate*}\n",
       "\n",
       "\\end{enumerate}\n"
      ],
      "text/markdown": [
       "1. 1. 21\n",
       "2. 47\n",
       "3. 27\n",
       "4. 75\n",
       "5. 30\n",
       "6. 20\n",
       "7. 88\n",
       "8. 60\n",
       "9. 81\n",
       "10. 25\n",
       "11. 85\n",
       "12. 62\n",
       "13. 41\n",
       "14. 42\n",
       "15. 17\n",
       "16. 95\n",
       "17. 30\n",
       "18. 24\n",
       "19. 67\n",
       "20. 69\n",
       "21. 30\n",
       "22. 54\n",
       "23. 35\n",
       "24. 76\n",
       "25. 86\n",
       "\n",
       "\n",
       "\n",
       "\n",
       "\n"
      ],
      "text/plain": [
       "[[1]]\n",
       " [1] 21 47 27 75 30 20 88 60 81 25 85 62 41 42 17 95 30 24 67 69 30 54 35 76 86\n"
      ]
     },
     "metadata": {},
     "output_type": "display_data"
    }
   ],
   "source": [
    "my_list1 <- list(data$Scores)            # Convert score column to list element\n",
    "my_list1                                 # Print list"
   ]
  },
  {
   "cell_type": "code",
   "execution_count": 7,
   "id": "4b09cc34",
   "metadata": {},
   "outputs": [
    {
     "data": {
      "text/html": [
       "<table>\n",
       "<thead><tr><th></th><th scope=col>Hours</th></tr></thead>\n",
       "<tbody>\n",
       "\t<tr><th scope=row>1</th><td>2.5</td></tr>\n",
       "\t<tr><th scope=row>2</th><td>5.1</td></tr>\n",
       "\t<tr><th scope=row>3</th><td>3.2</td></tr>\n",
       "\t<tr><th scope=row>4</th><td>8.5</td></tr>\n",
       "\t<tr><th scope=row>5</th><td>3.5</td></tr>\n",
       "\t<tr><th scope=row>6</th><td>1.5</td></tr>\n",
       "\t<tr><th scope=row>7</th><td>9.2</td></tr>\n",
       "\t<tr><th scope=row>8</th><td>5.5</td></tr>\n",
       "\t<tr><th scope=row>9</th><td>8.3</td></tr>\n",
       "\t<tr><th scope=row>10</th><td>2.7</td></tr>\n",
       "\t<tr><th scope=row>11</th><td>7.7</td></tr>\n",
       "\t<tr><th scope=row>12</th><td>5.9</td></tr>\n",
       "\t<tr><th scope=row>13</th><td>4.5</td></tr>\n",
       "\t<tr><th scope=row>14</th><td>3.3</td></tr>\n",
       "\t<tr><th scope=row>15</th><td>1.1</td></tr>\n",
       "\t<tr><th scope=row>16</th><td>8.9</td></tr>\n",
       "\t<tr><th scope=row>18</th><td>1.9</td></tr>\n",
       "\t<tr><th scope=row>19</th><td>6.1</td></tr>\n",
       "\t<tr><th scope=row>20</th><td>7.4</td></tr>\n",
       "\t<tr><th scope=row>22</th><td>4.8</td></tr>\n",
       "\t<tr><th scope=row>23</th><td>3.8</td></tr>\n",
       "\t<tr><th scope=row>24</th><td>6.9</td></tr>\n",
       "\t<tr><th scope=row>25</th><td>7.8</td></tr>\n",
       "</tbody>\n",
       "</table>\n"
      ],
      "text/latex": [
       "\\begin{tabular}{r|l}\n",
       "  & Hours\\\\\n",
       "\\hline\n",
       "\t1 & 2.5\\\\\n",
       "\t2 & 5.1\\\\\n",
       "\t3 & 3.2\\\\\n",
       "\t4 & 8.5\\\\\n",
       "\t5 & 3.5\\\\\n",
       "\t6 & 1.5\\\\\n",
       "\t7 & 9.2\\\\\n",
       "\t8 & 5.5\\\\\n",
       "\t9 & 8.3\\\\\n",
       "\t10 & 2.7\\\\\n",
       "\t11 & 7.7\\\\\n",
       "\t12 & 5.9\\\\\n",
       "\t13 & 4.5\\\\\n",
       "\t14 & 3.3\\\\\n",
       "\t15 & 1.1\\\\\n",
       "\t16 & 8.9\\\\\n",
       "\t18 & 1.9\\\\\n",
       "\t19 & 6.1\\\\\n",
       "\t20 & 7.4\\\\\n",
       "\t22 & 4.8\\\\\n",
       "\t23 & 3.8\\\\\n",
       "\t24 & 6.9\\\\\n",
       "\t25 & 7.8\\\\\n",
       "\\end{tabular}\n"
      ],
      "text/markdown": [
       "\n",
       "| <!--/--> | Hours |\n",
       "|---|---|\n",
       "| 1 | 2.5 |\n",
       "| 2 | 5.1 |\n",
       "| 3 | 3.2 |\n",
       "| 4 | 8.5 |\n",
       "| 5 | 3.5 |\n",
       "| 6 | 1.5 |\n",
       "| 7 | 9.2 |\n",
       "| 8 | 5.5 |\n",
       "| 9 | 8.3 |\n",
       "| 10 | 2.7 |\n",
       "| 11 | 7.7 |\n",
       "| 12 | 5.9 |\n",
       "| 13 | 4.5 |\n",
       "| 14 | 3.3 |\n",
       "| 15 | 1.1 |\n",
       "| 16 | 8.9 |\n",
       "| 18 | 1.9 |\n",
       "| 19 | 6.1 |\n",
       "| 20 | 7.4 |\n",
       "| 22 | 4.8 |\n",
       "| 23 | 3.8 |\n",
       "| 24 | 6.9 |\n",
       "| 25 | 7.8 |\n",
       "\n"
      ],
      "text/plain": [
       "   Hours\n",
       "1  2.5  \n",
       "2  5.1  \n",
       "3  3.2  \n",
       "4  8.5  \n",
       "5  3.5  \n",
       "6  1.5  \n",
       "7  9.2  \n",
       "8  5.5  \n",
       "9  8.3  \n",
       "10 2.7  \n",
       "11 7.7  \n",
       "12 5.9  \n",
       "13 4.5  \n",
       "14 3.3  \n",
       "15 1.1  \n",
       "16 8.9  \n",
       "18 1.9  \n",
       "19 6.1  \n",
       "20 7.4  \n",
       "22 4.8  \n",
       "23 3.8  \n",
       "24 6.9  \n",
       "25 7.8  "
      ]
     },
     "metadata": {},
     "output_type": "display_data"
    }
   ],
   "source": [
    "unique(data['Hours'])                   #Unique values in Hours Column"
   ]
  },
  {
   "cell_type": "markdown",
   "id": "ae49dc3c",
   "metadata": {},
   "source": [
    "**Let us have a look at how each variable is distributed. Below is the histogram of hours:**"
   ]
  },
  {
   "cell_type": "code",
   "execution_count": 8,
   "id": "9c77cdce",
   "metadata": {},
   "outputs": [
    {
     "data": {
      "image/png": "[encoded data removed]",
      "text/plain": [
       "plot without title"
      ]
     },
     "metadata": {},
     "output_type": "display_data"
    }
   ],
   "source": [
    "# Histogram of the variable Hours.\n",
    "qplot(Hours, data = data, geom=\"histogram\", binwidth=1) +\n",
    "  labs(title = \"Historgram of Average Hours\") +\n",
    "  labs(x =\"Average Hours\") +\n",
    "  labs(y = \"Frequency\") +\n",
    "  scale_y_continuous(breaks = c(1:20), minor_breaks = NULL) +\n",
    "  scale_x_continuous(breaks = c(1:10), minor_breaks = NULL) +\n",
    "   geom_vline(xintercept = mean(data$Hours), show.legend=TRUE, color=\"red\") +\n",
    "  geom_vline(xintercept = median(data$Hours), show.legend=TRUE, color=\"blue\")"
   ]
  },
  {
   "cell_type": "markdown",
   "id": "4acb6d89",
   "metadata": {},
   "source": [
    "The histogram above allows us to see the pattern in the distribution of average hours spend on studies in the dataset. The blue vertical line shows the median value and the red line the average value."
   ]
  },
  {
   "cell_type": "markdown",
   "id": "9ed722c4",
   "metadata": {},
   "source": [
    "**Let’s now plot the histogram of Scores**"
   ]
  },
  {
   "cell_type": "code",
   "execution_count": 9,
   "id": "a3309fa0",
   "metadata": {},
   "outputs": [
    {
     "data": {
      "image/png": "[encoded data removed]",
      "text/plain": [
       "plot without title"
      ]
     },
     "metadata": {},
     "output_type": "display_data"
    }
   ],
   "source": [
    "# Histogram of the variable Scores.\n",
    "qplot(Scores, data = data, geom=\"histogram\", binwidth=10) +\n",
    "  labs(title = \"Historgram of Average Scores Percentage\") +\n",
    "  labs(x =\"Average of Scores Percentage\") +\n",
    "  labs(y = \"Frequency\") +\n",
    "  scale_y_continuous(breaks = c(1:25), minor_breaks = NULL) +\n",
    "  scale_x_continuous(breaks = c(0,10,20,30,40,50,60,70,80,90,100), minor_breaks = NULL) +\n",
    "  geom_vline(xintercept = mean(data$Scores), show.legend=TRUE, color=\"red\") +\n",
    "  geom_vline(xintercept = median(data$Scores), show.legend=TRUE, color=\"blue\")"
   ]
  },
  {
   "cell_type": "markdown",
   "id": "d5897ec3",
   "metadata": {},
   "source": [
    "The histogram above shows the pattern in the distribution of average scores. The blue vertical line shows the median value and the red line the average value."
   ]
  },
  {
   "cell_type": "markdown",
   "id": "9331a39b",
   "metadata": {},
   "source": [
    "**Draw a scatterplot of both variables to see their relationship:**"
   ]
  },
  {
   "cell_type": "code",
   "execution_count": 10,
   "id": "0b68d6d8",
   "metadata": {},
   "outputs": [
    {
     "data": {
      "image/png": "[encoded data removed]",
      "text/plain": [
       "plot without title"
      ]
     },
     "metadata": {},
     "output_type": "display_data"
    }
   ],
   "source": [
    "# Create a plot of the subset data.\n",
    "qplot(Hours, Scores, data = data, main = \"Relationship between Hours and Scores Percentage\") +\n",
    "  labs(x =\"Hours Studied\") +\n",
    "  labs(y = \"Scores Percentage Obtained\") +\n",
    "  scale_y_continuous(breaks = c(10,20,30,40,50,60,70,80,90,100), minor_breaks = NULL) +\n",
    "  scale_x_continuous(breaks = c(1:10), minor_breaks = NULL)"
   ]
  },
  {
   "cell_type": "markdown",
   "id": "33110a52",
   "metadata": {},
   "source": [
    " Observe how hours studied increases, scores obtained is increasing. From the graph above, we can clearly see that there is a positive linear relation between the number of hours studied and percentage of score."
   ]
  },
  {
   "cell_type": "markdown",
   "id": "75d10959",
   "metadata": {},
   "source": [
    "**Preparing the data**\n",
    "\n",
    "The next step is to divide the data into \"attributes\" (inputs) and \"labels\" (outputs)."
   ]
  },
  {
   "cell_type": "code",
   "execution_count": 11,
   "id": "fb6923bf",
   "metadata": {},
   "outputs": [
    {
     "name": "stdout",
     "output_type": "stream",
     "text": [
      "package 'caTools' successfully unpacked and MD5 sums checked\n",
      "\n",
      "The downloaded binary packages are in\n",
      "\tC:\\Users\\Anita George\\AppData\\Local\\Temp\\Rtmpi6bAsS\\downloaded_packages\n"
     ]
    },
    {
     "name": "stderr",
     "output_type": "stream",
     "text": [
      "Warning message:\n",
      "\"package 'caTools' was built under R version 3.6.3\""
     ]
    }
   ],
   "source": [
    "# Splitting the dataset into the\n",
    "# Training set and Test set\n",
    "install.packages('caTools')\n",
    "library(caTools)\n",
    "split = sample.split(data$Scores, SplitRatio = 0.7)\n",
    "trainingset = subset(data, split == TRUE)\n",
    "testset = subset(data, split == FALSE)"
   ]
  },
  {
   "cell_type": "code",
   "execution_count": 12,
   "id": "50984cfe",
   "metadata": {},
   "outputs": [
    {
     "data": {
      "text/html": [
       "<dl class=dl-horizontal>\n",
       "\t<dt>(Intercept)</dt>\n",
       "\t\t<dd>2.83535775660053</dd>\n",
       "\t<dt>Hours</dt>\n",
       "\t\t<dd>9.54221020153101</dd>\n",
       "</dl>\n"
      ],
      "text/latex": [
       "\\begin{description*}\n",
       "\\item[(Intercept)] 2.83535775660053\n",
       "\\item[Hours] 9.54221020153101\n",
       "\\end{description*}\n"
      ],
      "text/markdown": [
       "(Intercept)\n",
       ":   2.83535775660053Hours\n",
       ":   9.54221020153101\n",
       "\n"
      ],
      "text/plain": [
       "(Intercept)       Hours \n",
       "   2.835358    9.542210 "
      ]
     },
     "metadata": {},
     "output_type": "display_data"
    }
   ],
   "source": [
    "# Fitting Simple Linear Regression to the Training set\n",
    "\n",
    "lm.r= lm(formula = Scores ~ Hours,\n",
    "                        data = trainingset)\n",
    "coef(lm.r)"
   ]
  },
  {
   "cell_type": "code",
   "execution_count": 13,
   "id": "c0c6b95c",
   "metadata": {},
   "outputs": [],
   "source": [
    "# Predicting the Test set results\n",
    "ypred = predict(lm.r, newdata = testset)"
   ]
  },
  {
   "cell_type": "code",
   "execution_count": 14,
   "id": "899be568",
   "metadata": {},
   "outputs": [
    {
     "data": {
      "image/png": "[encoded data removed]",
      "text/plain": [
       "plot without title"
      ]
     },
     "metadata": {},
     "output_type": "display_data"
    }
   ],
   "source": [
    "# Visualising the Training set results\n",
    "ggplot() + geom_point(aes(x = trainingset$Hours, \n",
    "                y = trainingset$Scores), colour = 'red') +\n",
    "geom_line(aes(x = trainingset$Hours,\n",
    "y = predict(lm.r, newdata = trainingset)), colour = 'blue') +\n",
    "          \n",
    "ggtitle('Scores Percentage Obtained vs Hours Studied (Training set)') +\n",
    "xlab('Hours Studied') +\n",
    "ylab('Scores Percentage Obtained')"
   ]
  },
  {
   "cell_type": "code",
   "execution_count": 25,
   "id": "780cc5c1",
   "metadata": {},
   "outputs": [
    {
     "data": {
      "image/png": "[encoded data removed]",
      "text/plain": [
       "plot without title"
      ]
     },
     "metadata": {},
     "output_type": "display_data"
    }
   ],
   "source": [
    "# Visualising the Test set results\n",
    "  ggplot() +\n",
    "  geom_point(aes(x = testset$Hours, y = testset$Scores),\n",
    "             colour = 'red') +\n",
    "  geom_line(aes(x = trainingset$Hours,\n",
    "             y = predict(lm.r, newdata = trainingset)), \n",
    "             colour = 'blue') +\n",
    "   geom_vline(xintercept = 7.4, show.legend=TRUE, color=\"green\") +       \n",
    "   geom_vline(xintercept = 9.25, show.legend=TRUE, color=\"yellow\") +     \n",
    "  ggtitle('Scores Percentage Obtained vs Hours Studied(Test set)') +\n",
    "  xlab('Hours Studied') +\n",
    "  ylab('Scores Percentage Obtained')"
   ]
  },
  {
   "cell_type": "markdown",
   "id": "e02dfdc2",
   "metadata": {},
   "source": [
    "**Calculating the correlation between Scores and Hours Studied**\n",
    "\n",
    "We can also verify our above analysis that there is a correlation between Scores and Hours by taking the help of cor( ) function in R which is used to calculate the correlation between two variables."
   ]
  },
  {
   "cell_type": "code",
   "execution_count": 16,
   "id": "97d502b3",
   "metadata": {},
   "outputs": [
    {
     "data": {
      "text/html": [
       "0.976190656022089"
      ],
      "text/latex": [
       "0.976190656022089"
      ],
      "text/markdown": [
       "0.976190656022089"
      ],
      "text/plain": [
       "[1] 0.9761907"
      ]
     },
     "metadata": {},
     "output_type": "display_data"
    }
   ],
   "source": [
    "cor(data$Scores,data$Hours)"
   ]
  },
  {
   "cell_type": "markdown",
   "id": "9f91aabb",
   "metadata": {},
   "source": [
    "**Creating a Linear regression model**\n",
    "\n",
    "Now with the help of lm( ) function, we are going to make a linear model. lm( ) function has two attributes first is a formula where we will use “data ~ Scores” because Scores is an dependent variable and Hours Studied is a independent variable and the second is data, where we will give the name of the data frame containing data which is in this case, is data frame 'data'."
   ]
  },
  {
   "cell_type": "code",
   "execution_count": 17,
   "id": "ff33bc12",
   "metadata": {},
   "outputs": [],
   "source": [
    "model <- lm(Scores ~ Hours, data = data)"
   ]
  },
  {
   "cell_type": "markdown",
   "id": "5331e244",
   "metadata": {},
   "source": [
    "**Summary of our linear regression model**"
   ]
  },
  {
   "cell_type": "code",
   "execution_count": 18,
   "id": "43769ffd",
   "metadata": {},
   "outputs": [
    {
     "data": {
      "text/plain": [
       "\n",
       "Call:\n",
       "lm(formula = Scores ~ Hours, data = data)\n",
       "\n",
       "Residuals:\n",
       "    Min      1Q  Median      3Q     Max \n",
       "-10.578  -5.340   1.839   4.593   7.265 \n",
       "\n",
       "Coefficients:\n",
       "            Estimate Std. Error t value Pr(>|t|)    \n",
       "(Intercept)   2.4837     2.5317   0.981    0.337    \n",
       "Hours         9.7758     0.4529  21.583   <2e-16 ***\n",
       "---\n",
       "Signif. codes:  0 '***' 0.001 '**' 0.01 '*' 0.05 '.' 0.1 ' ' 1\n",
       "\n",
       "Residual standard error: 5.603 on 23 degrees of freedom\n",
       "Multiple R-squared:  0.9529,\tAdjusted R-squared:  0.9509 \n",
       "F-statistic: 465.8 on 1 and 23 DF,  p-value: < 2.2e-16\n"
      ]
     },
     "metadata": {},
     "output_type": "display_data"
    }
   ],
   "source": [
    "summary(model)"
   ]
  },
  {
   "cell_type": "markdown",
   "id": "d9e1a4b2",
   "metadata": {},
   "source": [
    "**Interpretation of the model**"
   ]
  },
  {
   "cell_type": "code",
   "execution_count": 19,
   "id": "2e94e02a",
   "metadata": {},
   "outputs": [],
   "source": [
    "#Coefficients:\n",
    "#            Estimate   Std. Error t value Pr(>|t|)    \n",
    "#(Intercept)   2.4837     2.5317   0.981    0.337    \n",
    "#Hours         9.7758     0.4529  21.583   <2e-16 \n",
    "\n",
    "#Signif. codes:  0 '***' 0.001 '**' 0.01 '*' 0.05 '.' 0.1 ' ' 1\n",
    "\n",
    "#S0 = 2.4837 (Y- intercept)\n",
    "#S1 = 9.7758 (Hours coefficient)\n",
    "#SCORES OBTAINED = 2.4837 + 9.7758 Hours"
   ]
  },
  {
   "cell_type": "markdown",
   "id": "2f4f4f11",
   "metadata": {},
   "source": [
    "It means a change in one unit in Hours Studied will bring 9.7758 units to change in Scores Percentage Obtained."
   ]
  },
  {
   "cell_type": "markdown",
   "id": "865c05f3",
   "metadata": {},
   "source": [
    "**Creating data frame for predicting values**\n",
    "\n",
    "Creating a data frame which will store hours studied as 7.4 hrs. And this data frame will be used to predict scores obtained at 7.4 hrs studied after creating a linear regression model."
   ]
  },
  {
   "cell_type": "code",
   "execution_count": 20,
   "id": "cea63eda",
   "metadata": {},
   "outputs": [],
   "source": [
    "p <-  as.data.frame(7.4)\n",
    "colnames(p) <- \"Hours\""
   ]
  },
  {
   "cell_type": "markdown",
   "id": "1bde5a1c",
   "metadata": {},
   "source": [
    "**Predict the value of Scores Percentage Obtained at Hours studied was 7.4**"
   ]
  },
  {
   "cell_type": "code",
   "execution_count": 21,
   "id": "179a5906",
   "metadata": {},
   "outputs": [
    {
     "data": {
      "text/html": [
       "<strong>1:</strong> 74.8246184972005"
      ],
      "text/latex": [
       "\\textbf{1:} 74.8246184972005"
      ],
      "text/markdown": [
       "**1:** 74.8246184972005"
      ],
      "text/plain": [
       "       1 \n",
       "74.82462 "
      ]
     },
     "metadata": {},
     "output_type": "display_data"
    }
   ],
   "source": [
    "predict(model, newdata = p)"
   ]
  },
  {
   "cell_type": "markdown",
   "id": "2562d3cc",
   "metadata": {},
   "source": [
    "So, the predicted value of scores percentage obtained is 74.8 at 7.4 hrs of study"
   ]
  },
  {
   "cell_type": "markdown",
   "id": "d4aead78",
   "metadata": {},
   "source": [
    " **What will be predicted score if a student studies for 9.25 hrs/ day?**"
   ]
  },
  {
   "cell_type": "code",
   "execution_count": 23,
   "id": "2580deee",
   "metadata": {},
   "outputs": [],
   "source": [
    "p <-  as.data.frame(9.25)\n",
    "colnames(p) <- \"Hours\""
   ]
  },
  {
   "cell_type": "code",
   "execution_count": 24,
   "id": "267ce921",
   "metadata": {},
   "outputs": [
    {
     "data": {
      "text/html": [
       "<strong>1:</strong> 92.9098547701573"
      ],
      "text/latex": [
       "\\textbf{1:} 92.9098547701573"
      ],
      "text/markdown": [
       "**1:** 92.9098547701573"
      ],
      "text/plain": [
       "       1 \n",
       "92.90985 "
      ]
     },
     "metadata": {},
     "output_type": "display_data"
    }
   ],
   "source": [
    "predict(model, newdata = p)"
   ]
  },
  {
   "cell_type": "markdown",
   "id": "46d1365f",
   "metadata": {},
   "source": [
    "**So, the predicted value of scores percentage obtained is 92.9 at 9.25 hrs of study**"
   ]
  }
 ],
 "metadata": {
  "kernelspec": {
   "display_name": "R",
   "language": "R",
   "name": "ir"
  },
  "language_info": {
   "codemirror_mode": "r",
   "file_extension": ".r",
   "mimetype": "text/x-r-source",
   "name": "R",
   "pygments_lexer": "r",
   "version": "3.6.1"
  }
 },
 "nbformat": 4,
 "nbformat_minor": 5
}
